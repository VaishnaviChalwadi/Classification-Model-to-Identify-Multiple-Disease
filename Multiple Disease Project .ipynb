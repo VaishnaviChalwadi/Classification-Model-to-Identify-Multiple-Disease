{
 "cells": [
  {
   "cell_type": "markdown",
   "metadata": {
    "id": "I18Jq4byuxJz"
   },
   "source": [
    "# **⭐ Classification Model to Identify Multiple Disease**"
   ]
  },
  {
   "cell_type": "code",
   "execution_count": 2,
   "metadata": {
    "id": "KMnSezUyqBGC"
   },
   "outputs": [],
   "source": [
    "# import library\n",
    "import pandas as pd"
   ]
  },
  {
   "cell_type": "code",
   "execution_count": 3,
   "metadata": {
    "id": "sSNrMT5cu0QO"
   },
   "outputs": [],
   "source": [
    "# import data\n",
    "disease = pd.read_csv('https://github.com/ybifoundation/Dataset/raw/main/MultipleDiseasePrediction.csv')"
   ]
  },
  {
   "cell_type": "code",
   "execution_count": 4,
   "metadata": {
    "colab": {
     "base_uri": "https://localhost:8080/",
     "height": 386
    },
    "executionInfo": {
     "elapsed": 647,
     "status": "ok",
     "timestamp": 1661324395377,
     "user": {
      "displayName": "YBI Foundation",
      "userId": "14999490793651581791"
     },
     "user_tz": -330
    },
    "id": "47yQb5c2vnSy",
    "outputId": "3ab9f815-9dce-4e13-d3a4-a4fc2de5404d"
   },
   "outputs": [
    {
     "data": {
      "text/html": [
       "<div>\n",
       "<style scoped>\n",
       "    .dataframe tbody tr th:only-of-type {\n",
       "        vertical-align: middle;\n",
       "    }\n",
       "\n",
       "    .dataframe tbody tr th {\n",
       "        vertical-align: top;\n",
       "    }\n",
       "\n",
       "    .dataframe thead th {\n",
       "        text-align: right;\n",
       "    }\n",
       "</style>\n",
       "<table border=\"1\" class=\"dataframe\">\n",
       "  <thead>\n",
       "    <tr style=\"text-align: right;\">\n",
       "      <th></th>\n",
       "      <th>itching</th>\n",
       "      <th>skin_rash</th>\n",
       "      <th>nodal_skin_eruptions</th>\n",
       "      <th>continuous_sneezing</th>\n",
       "      <th>shivering</th>\n",
       "      <th>chills</th>\n",
       "      <th>joint_pain</th>\n",
       "      <th>stomach_pain</th>\n",
       "      <th>acidity</th>\n",
       "      <th>ulcers_on_tongue</th>\n",
       "      <th>...</th>\n",
       "      <th>blackheads</th>\n",
       "      <th>scurring</th>\n",
       "      <th>skin_peeling</th>\n",
       "      <th>silver_like_dusting</th>\n",
       "      <th>small_dents_in_nails</th>\n",
       "      <th>inflammatory_nails</th>\n",
       "      <th>blister</th>\n",
       "      <th>red_sore_around_nose</th>\n",
       "      <th>yellow_crust_ooze</th>\n",
       "      <th>prognosis</th>\n",
       "    </tr>\n",
       "  </thead>\n",
       "  <tbody>\n",
       "    <tr>\n",
       "      <th>0</th>\n",
       "      <td>1</td>\n",
       "      <td>1</td>\n",
       "      <td>1</td>\n",
       "      <td>0</td>\n",
       "      <td>0</td>\n",
       "      <td>0</td>\n",
       "      <td>0</td>\n",
       "      <td>0</td>\n",
       "      <td>0</td>\n",
       "      <td>0</td>\n",
       "      <td>...</td>\n",
       "      <td>0</td>\n",
       "      <td>0</td>\n",
       "      <td>0</td>\n",
       "      <td>0</td>\n",
       "      <td>0</td>\n",
       "      <td>0</td>\n",
       "      <td>0</td>\n",
       "      <td>0</td>\n",
       "      <td>0</td>\n",
       "      <td>Fungal infection</td>\n",
       "    </tr>\n",
       "    <tr>\n",
       "      <th>1</th>\n",
       "      <td>0</td>\n",
       "      <td>1</td>\n",
       "      <td>1</td>\n",
       "      <td>0</td>\n",
       "      <td>0</td>\n",
       "      <td>0</td>\n",
       "      <td>0</td>\n",
       "      <td>0</td>\n",
       "      <td>0</td>\n",
       "      <td>0</td>\n",
       "      <td>...</td>\n",
       "      <td>0</td>\n",
       "      <td>0</td>\n",
       "      <td>0</td>\n",
       "      <td>0</td>\n",
       "      <td>0</td>\n",
       "      <td>0</td>\n",
       "      <td>0</td>\n",
       "      <td>0</td>\n",
       "      <td>0</td>\n",
       "      <td>Fungal infection</td>\n",
       "    </tr>\n",
       "    <tr>\n",
       "      <th>2</th>\n",
       "      <td>1</td>\n",
       "      <td>0</td>\n",
       "      <td>1</td>\n",
       "      <td>0</td>\n",
       "      <td>0</td>\n",
       "      <td>0</td>\n",
       "      <td>0</td>\n",
       "      <td>0</td>\n",
       "      <td>0</td>\n",
       "      <td>0</td>\n",
       "      <td>...</td>\n",
       "      <td>0</td>\n",
       "      <td>0</td>\n",
       "      <td>0</td>\n",
       "      <td>0</td>\n",
       "      <td>0</td>\n",
       "      <td>0</td>\n",
       "      <td>0</td>\n",
       "      <td>0</td>\n",
       "      <td>0</td>\n",
       "      <td>Fungal infection</td>\n",
       "    </tr>\n",
       "    <tr>\n",
       "      <th>3</th>\n",
       "      <td>1</td>\n",
       "      <td>1</td>\n",
       "      <td>0</td>\n",
       "      <td>0</td>\n",
       "      <td>0</td>\n",
       "      <td>0</td>\n",
       "      <td>0</td>\n",
       "      <td>0</td>\n",
       "      <td>0</td>\n",
       "      <td>0</td>\n",
       "      <td>...</td>\n",
       "      <td>0</td>\n",
       "      <td>0</td>\n",
       "      <td>0</td>\n",
       "      <td>0</td>\n",
       "      <td>0</td>\n",
       "      <td>0</td>\n",
       "      <td>0</td>\n",
       "      <td>0</td>\n",
       "      <td>0</td>\n",
       "      <td>Fungal infection</td>\n",
       "    </tr>\n",
       "    <tr>\n",
       "      <th>4</th>\n",
       "      <td>1</td>\n",
       "      <td>1</td>\n",
       "      <td>1</td>\n",
       "      <td>0</td>\n",
       "      <td>0</td>\n",
       "      <td>0</td>\n",
       "      <td>0</td>\n",
       "      <td>0</td>\n",
       "      <td>0</td>\n",
       "      <td>0</td>\n",
       "      <td>...</td>\n",
       "      <td>0</td>\n",
       "      <td>0</td>\n",
       "      <td>0</td>\n",
       "      <td>0</td>\n",
       "      <td>0</td>\n",
       "      <td>0</td>\n",
       "      <td>0</td>\n",
       "      <td>0</td>\n",
       "      <td>0</td>\n",
       "      <td>Fungal infection</td>\n",
       "    </tr>\n",
       "  </tbody>\n",
       "</table>\n",
       "<p>5 rows × 133 columns</p>\n",
       "</div>"
      ],
      "text/plain": [
       "   itching  skin_rash  nodal_skin_eruptions  continuous_sneezing  shivering  \\\n",
       "0        1          1                     1                    0          0   \n",
       "1        0          1                     1                    0          0   \n",
       "2        1          0                     1                    0          0   \n",
       "3        1          1                     0                    0          0   \n",
       "4        1          1                     1                    0          0   \n",
       "\n",
       "   chills  joint_pain  stomach_pain  acidity  ulcers_on_tongue  ...  \\\n",
       "0       0           0             0        0                 0  ...   \n",
       "1       0           0             0        0                 0  ...   \n",
       "2       0           0             0        0                 0  ...   \n",
       "3       0           0             0        0                 0  ...   \n",
       "4       0           0             0        0                 0  ...   \n",
       "\n",
       "   blackheads  scurring  skin_peeling  silver_like_dusting  \\\n",
       "0           0         0             0                    0   \n",
       "1           0         0             0                    0   \n",
       "2           0         0             0                    0   \n",
       "3           0         0             0                    0   \n",
       "4           0         0             0                    0   \n",
       "\n",
       "   small_dents_in_nails  inflammatory_nails  blister  red_sore_around_nose  \\\n",
       "0                     0                   0        0                     0   \n",
       "1                     0                   0        0                     0   \n",
       "2                     0                   0        0                     0   \n",
       "3                     0                   0        0                     0   \n",
       "4                     0                   0        0                     0   \n",
       "\n",
       "   yellow_crust_ooze         prognosis  \n",
       "0                  0  Fungal infection  \n",
       "1                  0  Fungal infection  \n",
       "2                  0  Fungal infection  \n",
       "3                  0  Fungal infection  \n",
       "4                  0  Fungal infection  \n",
       "\n",
       "[5 rows x 133 columns]"
      ]
     },
     "execution_count": 4,
     "metadata": {},
     "output_type": "execute_result"
    }
   ],
   "source": [
    "# view data\n",
    "\n",
    "disease.head()"
   ]
  },
  {
   "cell_type": "code",
   "execution_count": 5,
   "metadata": {
    "colab": {
     "base_uri": "https://localhost:8080/"
    },
    "executionInfo": {
     "elapsed": 575,
     "status": "ok",
     "timestamp": 1661324663982,
     "user": {
      "displayName": "YBI Foundation",
      "userId": "14999490793651581791"
     },
     "user_tz": -330
    },
    "id": "CEQ00aPdvwT4",
    "outputId": "d80220b2-9e26-49c0-e218-3f93306f4fa0"
   },
   "outputs": [
    {
     "name": "stdout",
     "output_type": "stream",
     "text": [
      "<class 'pandas.core.frame.DataFrame'>\n",
      "RangeIndex: 4920 entries, 0 to 4919\n",
      "Columns: 133 entries, itching to prognosis\n",
      "dtypes: int64(132), object(1)\n",
      "memory usage: 5.0+ MB\n"
     ]
    }
   ],
   "source": [
    "# info of data\n",
    "disease.info()"
   ]
  },
  {
   "cell_type": "code",
   "execution_count": 6,
   "metadata": {
    "colab": {
     "base_uri": "https://localhost:8080/",
     "height": 394
    },
    "executionInfo": {
     "elapsed": 475,
     "status": "ok",
     "timestamp": 1661324401904,
     "user": {
      "displayName": "YBI Foundation",
      "userId": "14999490793651581791"
     },
     "user_tz": -330
    },
    "id": "dwf657_Rv1T2",
    "outputId": "004d5ae1-fe08-41fa-e729-a147e56b2f0a"
   },
   "outputs": [
    {
     "data": {
      "text/html": [
       "<div>\n",
       "<style scoped>\n",
       "    .dataframe tbody tr th:only-of-type {\n",
       "        vertical-align: middle;\n",
       "    }\n",
       "\n",
       "    .dataframe tbody tr th {\n",
       "        vertical-align: top;\n",
       "    }\n",
       "\n",
       "    .dataframe thead th {\n",
       "        text-align: right;\n",
       "    }\n",
       "</style>\n",
       "<table border=\"1\" class=\"dataframe\">\n",
       "  <thead>\n",
       "    <tr style=\"text-align: right;\">\n",
       "      <th></th>\n",
       "      <th>itching</th>\n",
       "      <th>skin_rash</th>\n",
       "      <th>nodal_skin_eruptions</th>\n",
       "      <th>continuous_sneezing</th>\n",
       "      <th>shivering</th>\n",
       "      <th>chills</th>\n",
       "      <th>joint_pain</th>\n",
       "      <th>stomach_pain</th>\n",
       "      <th>acidity</th>\n",
       "      <th>ulcers_on_tongue</th>\n",
       "      <th>...</th>\n",
       "      <th>pus_filled_pimples</th>\n",
       "      <th>blackheads</th>\n",
       "      <th>scurring</th>\n",
       "      <th>skin_peeling</th>\n",
       "      <th>silver_like_dusting</th>\n",
       "      <th>small_dents_in_nails</th>\n",
       "      <th>inflammatory_nails</th>\n",
       "      <th>blister</th>\n",
       "      <th>red_sore_around_nose</th>\n",
       "      <th>yellow_crust_ooze</th>\n",
       "    </tr>\n",
       "  </thead>\n",
       "  <tbody>\n",
       "    <tr>\n",
       "      <th>count</th>\n",
       "      <td>4920.000000</td>\n",
       "      <td>4920.000000</td>\n",
       "      <td>4920.000000</td>\n",
       "      <td>4920.000000</td>\n",
       "      <td>4920.000000</td>\n",
       "      <td>4920.000000</td>\n",
       "      <td>4920.000000</td>\n",
       "      <td>4920.000000</td>\n",
       "      <td>4920.000000</td>\n",
       "      <td>4920.000000</td>\n",
       "      <td>...</td>\n",
       "      <td>4920.000000</td>\n",
       "      <td>4920.000000</td>\n",
       "      <td>4920.000000</td>\n",
       "      <td>4920.000000</td>\n",
       "      <td>4920.000000</td>\n",
       "      <td>4920.000000</td>\n",
       "      <td>4920.000000</td>\n",
       "      <td>4920.000000</td>\n",
       "      <td>4920.000000</td>\n",
       "      <td>4920.000000</td>\n",
       "    </tr>\n",
       "    <tr>\n",
       "      <th>mean</th>\n",
       "      <td>0.137805</td>\n",
       "      <td>0.159756</td>\n",
       "      <td>0.021951</td>\n",
       "      <td>0.045122</td>\n",
       "      <td>0.021951</td>\n",
       "      <td>0.162195</td>\n",
       "      <td>0.139024</td>\n",
       "      <td>0.045122</td>\n",
       "      <td>0.045122</td>\n",
       "      <td>0.021951</td>\n",
       "      <td>...</td>\n",
       "      <td>0.021951</td>\n",
       "      <td>0.021951</td>\n",
       "      <td>0.021951</td>\n",
       "      <td>0.023171</td>\n",
       "      <td>0.023171</td>\n",
       "      <td>0.023171</td>\n",
       "      <td>0.023171</td>\n",
       "      <td>0.023171</td>\n",
       "      <td>0.023171</td>\n",
       "      <td>0.023171</td>\n",
       "    </tr>\n",
       "    <tr>\n",
       "      <th>std</th>\n",
       "      <td>0.344730</td>\n",
       "      <td>0.366417</td>\n",
       "      <td>0.146539</td>\n",
       "      <td>0.207593</td>\n",
       "      <td>0.146539</td>\n",
       "      <td>0.368667</td>\n",
       "      <td>0.346007</td>\n",
       "      <td>0.207593</td>\n",
       "      <td>0.207593</td>\n",
       "      <td>0.146539</td>\n",
       "      <td>...</td>\n",
       "      <td>0.146539</td>\n",
       "      <td>0.146539</td>\n",
       "      <td>0.146539</td>\n",
       "      <td>0.150461</td>\n",
       "      <td>0.150461</td>\n",
       "      <td>0.150461</td>\n",
       "      <td>0.150461</td>\n",
       "      <td>0.150461</td>\n",
       "      <td>0.150461</td>\n",
       "      <td>0.150461</td>\n",
       "    </tr>\n",
       "    <tr>\n",
       "      <th>min</th>\n",
       "      <td>0.000000</td>\n",
       "      <td>0.000000</td>\n",
       "      <td>0.000000</td>\n",
       "      <td>0.000000</td>\n",
       "      <td>0.000000</td>\n",
       "      <td>0.000000</td>\n",
       "      <td>0.000000</td>\n",
       "      <td>0.000000</td>\n",
       "      <td>0.000000</td>\n",
       "      <td>0.000000</td>\n",
       "      <td>...</td>\n",
       "      <td>0.000000</td>\n",
       "      <td>0.000000</td>\n",
       "      <td>0.000000</td>\n",
       "      <td>0.000000</td>\n",
       "      <td>0.000000</td>\n",
       "      <td>0.000000</td>\n",
       "      <td>0.000000</td>\n",
       "      <td>0.000000</td>\n",
       "      <td>0.000000</td>\n",
       "      <td>0.000000</td>\n",
       "    </tr>\n",
       "    <tr>\n",
       "      <th>25%</th>\n",
       "      <td>0.000000</td>\n",
       "      <td>0.000000</td>\n",
       "      <td>0.000000</td>\n",
       "      <td>0.000000</td>\n",
       "      <td>0.000000</td>\n",
       "      <td>0.000000</td>\n",
       "      <td>0.000000</td>\n",
       "      <td>0.000000</td>\n",
       "      <td>0.000000</td>\n",
       "      <td>0.000000</td>\n",
       "      <td>...</td>\n",
       "      <td>0.000000</td>\n",
       "      <td>0.000000</td>\n",
       "      <td>0.000000</td>\n",
       "      <td>0.000000</td>\n",
       "      <td>0.000000</td>\n",
       "      <td>0.000000</td>\n",
       "      <td>0.000000</td>\n",
       "      <td>0.000000</td>\n",
       "      <td>0.000000</td>\n",
       "      <td>0.000000</td>\n",
       "    </tr>\n",
       "    <tr>\n",
       "      <th>50%</th>\n",
       "      <td>0.000000</td>\n",
       "      <td>0.000000</td>\n",
       "      <td>0.000000</td>\n",
       "      <td>0.000000</td>\n",
       "      <td>0.000000</td>\n",
       "      <td>0.000000</td>\n",
       "      <td>0.000000</td>\n",
       "      <td>0.000000</td>\n",
       "      <td>0.000000</td>\n",
       "      <td>0.000000</td>\n",
       "      <td>...</td>\n",
       "      <td>0.000000</td>\n",
       "      <td>0.000000</td>\n",
       "      <td>0.000000</td>\n",
       "      <td>0.000000</td>\n",
       "      <td>0.000000</td>\n",
       "      <td>0.000000</td>\n",
       "      <td>0.000000</td>\n",
       "      <td>0.000000</td>\n",
       "      <td>0.000000</td>\n",
       "      <td>0.000000</td>\n",
       "    </tr>\n",
       "    <tr>\n",
       "      <th>75%</th>\n",
       "      <td>0.000000</td>\n",
       "      <td>0.000000</td>\n",
       "      <td>0.000000</td>\n",
       "      <td>0.000000</td>\n",
       "      <td>0.000000</td>\n",
       "      <td>0.000000</td>\n",
       "      <td>0.000000</td>\n",
       "      <td>0.000000</td>\n",
       "      <td>0.000000</td>\n",
       "      <td>0.000000</td>\n",
       "      <td>...</td>\n",
       "      <td>0.000000</td>\n",
       "      <td>0.000000</td>\n",
       "      <td>0.000000</td>\n",
       "      <td>0.000000</td>\n",
       "      <td>0.000000</td>\n",
       "      <td>0.000000</td>\n",
       "      <td>0.000000</td>\n",
       "      <td>0.000000</td>\n",
       "      <td>0.000000</td>\n",
       "      <td>0.000000</td>\n",
       "    </tr>\n",
       "    <tr>\n",
       "      <th>max</th>\n",
       "      <td>1.000000</td>\n",
       "      <td>1.000000</td>\n",
       "      <td>1.000000</td>\n",
       "      <td>1.000000</td>\n",
       "      <td>1.000000</td>\n",
       "      <td>1.000000</td>\n",
       "      <td>1.000000</td>\n",
       "      <td>1.000000</td>\n",
       "      <td>1.000000</td>\n",
       "      <td>1.000000</td>\n",
       "      <td>...</td>\n",
       "      <td>1.000000</td>\n",
       "      <td>1.000000</td>\n",
       "      <td>1.000000</td>\n",
       "      <td>1.000000</td>\n",
       "      <td>1.000000</td>\n",
       "      <td>1.000000</td>\n",
       "      <td>1.000000</td>\n",
       "      <td>1.000000</td>\n",
       "      <td>1.000000</td>\n",
       "      <td>1.000000</td>\n",
       "    </tr>\n",
       "  </tbody>\n",
       "</table>\n",
       "<p>8 rows × 132 columns</p>\n",
       "</div>"
      ],
      "text/plain": [
       "           itching    skin_rash  nodal_skin_eruptions  continuous_sneezing  \\\n",
       "count  4920.000000  4920.000000           4920.000000          4920.000000   \n",
       "mean      0.137805     0.159756              0.021951             0.045122   \n",
       "std       0.344730     0.366417              0.146539             0.207593   \n",
       "min       0.000000     0.000000              0.000000             0.000000   \n",
       "25%       0.000000     0.000000              0.000000             0.000000   \n",
       "50%       0.000000     0.000000              0.000000             0.000000   \n",
       "75%       0.000000     0.000000              0.000000             0.000000   \n",
       "max       1.000000     1.000000              1.000000             1.000000   \n",
       "\n",
       "         shivering       chills   joint_pain  stomach_pain      acidity  \\\n",
       "count  4920.000000  4920.000000  4920.000000   4920.000000  4920.000000   \n",
       "mean      0.021951     0.162195     0.139024      0.045122     0.045122   \n",
       "std       0.146539     0.368667     0.346007      0.207593     0.207593   \n",
       "min       0.000000     0.000000     0.000000      0.000000     0.000000   \n",
       "25%       0.000000     0.000000     0.000000      0.000000     0.000000   \n",
       "50%       0.000000     0.000000     0.000000      0.000000     0.000000   \n",
       "75%       0.000000     0.000000     0.000000      0.000000     0.000000   \n",
       "max       1.000000     1.000000     1.000000      1.000000     1.000000   \n",
       "\n",
       "       ulcers_on_tongue  ...  pus_filled_pimples   blackheads     scurring  \\\n",
       "count       4920.000000  ...         4920.000000  4920.000000  4920.000000   \n",
       "mean           0.021951  ...            0.021951     0.021951     0.021951   \n",
       "std            0.146539  ...            0.146539     0.146539     0.146539   \n",
       "min            0.000000  ...            0.000000     0.000000     0.000000   \n",
       "25%            0.000000  ...            0.000000     0.000000     0.000000   \n",
       "50%            0.000000  ...            0.000000     0.000000     0.000000   \n",
       "75%            0.000000  ...            0.000000     0.000000     0.000000   \n",
       "max            1.000000  ...            1.000000     1.000000     1.000000   \n",
       "\n",
       "       skin_peeling  silver_like_dusting  small_dents_in_nails  \\\n",
       "count   4920.000000          4920.000000           4920.000000   \n",
       "mean       0.023171             0.023171              0.023171   \n",
       "std        0.150461             0.150461              0.150461   \n",
       "min        0.000000             0.000000              0.000000   \n",
       "25%        0.000000             0.000000              0.000000   \n",
       "50%        0.000000             0.000000              0.000000   \n",
       "75%        0.000000             0.000000              0.000000   \n",
       "max        1.000000             1.000000              1.000000   \n",
       "\n",
       "       inflammatory_nails      blister  red_sore_around_nose  \\\n",
       "count         4920.000000  4920.000000           4920.000000   \n",
       "mean             0.023171     0.023171              0.023171   \n",
       "std              0.150461     0.150461              0.150461   \n",
       "min              0.000000     0.000000              0.000000   \n",
       "25%              0.000000     0.000000              0.000000   \n",
       "50%              0.000000     0.000000              0.000000   \n",
       "75%              0.000000     0.000000              0.000000   \n",
       "max              1.000000     1.000000              1.000000   \n",
       "\n",
       "       yellow_crust_ooze  \n",
       "count        4920.000000  \n",
       "mean            0.023171  \n",
       "std             0.150461  \n",
       "min             0.000000  \n",
       "25%             0.000000  \n",
       "50%             0.000000  \n",
       "75%             0.000000  \n",
       "max             1.000000  \n",
       "\n",
       "[8 rows x 132 columns]"
      ]
     },
     "execution_count": 6,
     "metadata": {},
     "output_type": "execute_result"
    }
   ],
   "source": [
    "# summary statistics\n",
    "disease.describe()"
   ]
  },
  {
   "cell_type": "code",
   "execution_count": 7,
   "metadata": {
    "colab": {
     "base_uri": "https://localhost:8080/"
    },
    "executionInfo": {
     "elapsed": 402,
     "status": "ok",
     "timestamp": 1661324404923,
     "user": {
      "displayName": "YBI Foundation",
      "userId": "14999490793651581791"
     },
     "user_tz": -330
    },
    "id": "yvLoDmdcv5Qm",
    "outputId": "50abb344-05f4-4566-d6d0-8f6970fc7dbb"
   },
   "outputs": [
    {
     "data": {
      "text/plain": [
       "itching                 0\n",
       "skin_rash               0\n",
       "nodal_skin_eruptions    0\n",
       "continuous_sneezing     0\n",
       "shivering               0\n",
       "                       ..\n",
       "inflammatory_nails      0\n",
       "blister                 0\n",
       "red_sore_around_nose    0\n",
       "yellow_crust_ooze       0\n",
       "prognosis               0\n",
       "Length: 133, dtype: int64"
      ]
     },
     "execution_count": 7,
     "metadata": {},
     "output_type": "execute_result"
    }
   ],
   "source": [
    "# check for missing value\n",
    "disease.isnull().sum()"
   ]
  },
  {
   "cell_type": "code",
   "execution_count": 8,
   "metadata": {
    "colab": {
     "base_uri": "https://localhost:8080/"
    },
    "executionInfo": {
     "elapsed": 413,
     "status": "ok",
     "timestamp": 1661324409628,
     "user": {
      "displayName": "YBI Foundation",
      "userId": "14999490793651581791"
     },
     "user_tz": -330
    },
    "id": "0dNMNNIvwBtd",
    "outputId": "c38558a9-c4e9-4f59-d23d-26e6fcd05419"
   },
   "outputs": [
    {
     "data": {
      "text/plain": [
       "itching                  2\n",
       "skin_rash                2\n",
       "nodal_skin_eruptions     2\n",
       "continuous_sneezing      2\n",
       "shivering                2\n",
       "                        ..\n",
       "inflammatory_nails       2\n",
       "blister                  2\n",
       "red_sore_around_nose     2\n",
       "yellow_crust_ooze        2\n",
       "prognosis               41\n",
       "Length: 133, dtype: int64"
      ]
     },
     "execution_count": 8,
     "metadata": {},
     "output_type": "execute_result"
    }
   ],
   "source": [
    "# check for categories\n",
    "disease.nunique()"
   ]
  },
  {
   "cell_type": "code",
   "execution_count": 9,
   "metadata": {
    "colab": {
     "base_uri": "https://localhost:8080/",
     "height": 488
    },
    "executionInfo": {
     "elapsed": 526,
     "status": "ok",
     "timestamp": 1661324688145,
     "user": {
      "displayName": "YBI Foundation",
      "userId": "14999490793651581791"
     },
     "user_tz": -330
    },
    "id": "nF78p-E0CLKY",
    "outputId": "580fc825-bbd0-43e9-ae1a-753c93d1eb39"
   },
   "outputs": [
    {
     "data": {
      "text/html": [
       "<div>\n",
       "<style scoped>\n",
       "    .dataframe tbody tr th:only-of-type {\n",
       "        vertical-align: middle;\n",
       "    }\n",
       "\n",
       "    .dataframe tbody tr th {\n",
       "        vertical-align: top;\n",
       "    }\n",
       "\n",
       "    .dataframe thead th {\n",
       "        text-align: right;\n",
       "    }\n",
       "</style>\n",
       "<table border=\"1\" class=\"dataframe\">\n",
       "  <thead>\n",
       "    <tr style=\"text-align: right;\">\n",
       "      <th></th>\n",
       "      <th>itching</th>\n",
       "      <th>skin_rash</th>\n",
       "      <th>nodal_skin_eruptions</th>\n",
       "      <th>continuous_sneezing</th>\n",
       "      <th>shivering</th>\n",
       "      <th>chills</th>\n",
       "      <th>joint_pain</th>\n",
       "      <th>stomach_pain</th>\n",
       "      <th>acidity</th>\n",
       "      <th>ulcers_on_tongue</th>\n",
       "      <th>...</th>\n",
       "      <th>pus_filled_pimples</th>\n",
       "      <th>blackheads</th>\n",
       "      <th>scurring</th>\n",
       "      <th>skin_peeling</th>\n",
       "      <th>silver_like_dusting</th>\n",
       "      <th>small_dents_in_nails</th>\n",
       "      <th>inflammatory_nails</th>\n",
       "      <th>blister</th>\n",
       "      <th>red_sore_around_nose</th>\n",
       "      <th>yellow_crust_ooze</th>\n",
       "    </tr>\n",
       "  </thead>\n",
       "  <tbody>\n",
       "    <tr>\n",
       "      <th>itching</th>\n",
       "      <td>1.000000</td>\n",
       "      <td>0.318158</td>\n",
       "      <td>0.326439</td>\n",
       "      <td>-0.086906</td>\n",
       "      <td>-0.059893</td>\n",
       "      <td>-0.175905</td>\n",
       "      <td>-0.160650</td>\n",
       "      <td>0.202850</td>\n",
       "      <td>-0.086906</td>\n",
       "      <td>-0.059893</td>\n",
       "      <td>...</td>\n",
       "      <td>-0.059893</td>\n",
       "      <td>-0.059893</td>\n",
       "      <td>-0.059893</td>\n",
       "      <td>-0.061573</td>\n",
       "      <td>-0.061573</td>\n",
       "      <td>-0.061573</td>\n",
       "      <td>-0.061573</td>\n",
       "      <td>-0.061573</td>\n",
       "      <td>-0.061573</td>\n",
       "      <td>-0.061573</td>\n",
       "    </tr>\n",
       "    <tr>\n",
       "      <th>skin_rash</th>\n",
       "      <td>0.318158</td>\n",
       "      <td>1.000000</td>\n",
       "      <td>0.298143</td>\n",
       "      <td>-0.094786</td>\n",
       "      <td>-0.065324</td>\n",
       "      <td>-0.029324</td>\n",
       "      <td>0.171134</td>\n",
       "      <td>0.161784</td>\n",
       "      <td>-0.094786</td>\n",
       "      <td>-0.065324</td>\n",
       "      <td>...</td>\n",
       "      <td>0.320859</td>\n",
       "      <td>0.320859</td>\n",
       "      <td>0.320859</td>\n",
       "      <td>0.331087</td>\n",
       "      <td>0.331087</td>\n",
       "      <td>0.331087</td>\n",
       "      <td>0.331087</td>\n",
       "      <td>0.331087</td>\n",
       "      <td>0.331087</td>\n",
       "      <td>0.331087</td>\n",
       "    </tr>\n",
       "    <tr>\n",
       "      <th>nodal_skin_eruptions</th>\n",
       "      <td>0.326439</td>\n",
       "      <td>0.298143</td>\n",
       "      <td>1.000000</td>\n",
       "      <td>-0.032566</td>\n",
       "      <td>-0.022444</td>\n",
       "      <td>-0.065917</td>\n",
       "      <td>-0.060200</td>\n",
       "      <td>-0.032566</td>\n",
       "      <td>-0.032566</td>\n",
       "      <td>-0.022444</td>\n",
       "      <td>...</td>\n",
       "      <td>-0.022444</td>\n",
       "      <td>-0.022444</td>\n",
       "      <td>-0.022444</td>\n",
       "      <td>-0.023073</td>\n",
       "      <td>-0.023073</td>\n",
       "      <td>-0.023073</td>\n",
       "      <td>-0.023073</td>\n",
       "      <td>-0.023073</td>\n",
       "      <td>-0.023073</td>\n",
       "      <td>-0.023073</td>\n",
       "    </tr>\n",
       "    <tr>\n",
       "      <th>continuous_sneezing</th>\n",
       "      <td>-0.086906</td>\n",
       "      <td>-0.094786</td>\n",
       "      <td>-0.032566</td>\n",
       "      <td>1.000000</td>\n",
       "      <td>0.608981</td>\n",
       "      <td>0.446238</td>\n",
       "      <td>-0.087351</td>\n",
       "      <td>-0.047254</td>\n",
       "      <td>-0.047254</td>\n",
       "      <td>-0.032566</td>\n",
       "      <td>...</td>\n",
       "      <td>-0.032566</td>\n",
       "      <td>-0.032566</td>\n",
       "      <td>-0.032566</td>\n",
       "      <td>-0.033480</td>\n",
       "      <td>-0.033480</td>\n",
       "      <td>-0.033480</td>\n",
       "      <td>-0.033480</td>\n",
       "      <td>-0.033480</td>\n",
       "      <td>-0.033480</td>\n",
       "      <td>-0.033480</td>\n",
       "    </tr>\n",
       "    <tr>\n",
       "      <th>shivering</th>\n",
       "      <td>-0.059893</td>\n",
       "      <td>-0.065324</td>\n",
       "      <td>-0.022444</td>\n",
       "      <td>0.608981</td>\n",
       "      <td>1.000000</td>\n",
       "      <td>0.295332</td>\n",
       "      <td>-0.060200</td>\n",
       "      <td>-0.032566</td>\n",
       "      <td>-0.032566</td>\n",
       "      <td>-0.022444</td>\n",
       "      <td>...</td>\n",
       "      <td>-0.022444</td>\n",
       "      <td>-0.022444</td>\n",
       "      <td>-0.022444</td>\n",
       "      <td>-0.023073</td>\n",
       "      <td>-0.023073</td>\n",
       "      <td>-0.023073</td>\n",
       "      <td>-0.023073</td>\n",
       "      <td>-0.023073</td>\n",
       "      <td>-0.023073</td>\n",
       "      <td>-0.023073</td>\n",
       "    </tr>\n",
       "    <tr>\n",
       "      <th>...</th>\n",
       "      <td>...</td>\n",
       "      <td>...</td>\n",
       "      <td>...</td>\n",
       "      <td>...</td>\n",
       "      <td>...</td>\n",
       "      <td>...</td>\n",
       "      <td>...</td>\n",
       "      <td>...</td>\n",
       "      <td>...</td>\n",
       "      <td>...</td>\n",
       "      <td>...</td>\n",
       "      <td>...</td>\n",
       "      <td>...</td>\n",
       "      <td>...</td>\n",
       "      <td>...</td>\n",
       "      <td>...</td>\n",
       "      <td>...</td>\n",
       "      <td>...</td>\n",
       "      <td>...</td>\n",
       "      <td>...</td>\n",
       "      <td>...</td>\n",
       "    </tr>\n",
       "    <tr>\n",
       "      <th>small_dents_in_nails</th>\n",
       "      <td>-0.061573</td>\n",
       "      <td>0.331087</td>\n",
       "      <td>-0.023073</td>\n",
       "      <td>-0.033480</td>\n",
       "      <td>-0.023073</td>\n",
       "      <td>-0.067765</td>\n",
       "      <td>0.359845</td>\n",
       "      <td>-0.033480</td>\n",
       "      <td>-0.033480</td>\n",
       "      <td>-0.023073</td>\n",
       "      <td>...</td>\n",
       "      <td>-0.023073</td>\n",
       "      <td>-0.023073</td>\n",
       "      <td>-0.023073</td>\n",
       "      <td>0.946120</td>\n",
       "      <td>0.946120</td>\n",
       "      <td>1.000000</td>\n",
       "      <td>0.946120</td>\n",
       "      <td>-0.023720</td>\n",
       "      <td>-0.023720</td>\n",
       "      <td>-0.023720</td>\n",
       "    </tr>\n",
       "    <tr>\n",
       "      <th>inflammatory_nails</th>\n",
       "      <td>-0.061573</td>\n",
       "      <td>0.331087</td>\n",
       "      <td>-0.023073</td>\n",
       "      <td>-0.033480</td>\n",
       "      <td>-0.023073</td>\n",
       "      <td>-0.067765</td>\n",
       "      <td>0.359845</td>\n",
       "      <td>-0.033480</td>\n",
       "      <td>-0.033480</td>\n",
       "      <td>-0.023073</td>\n",
       "      <td>...</td>\n",
       "      <td>-0.023073</td>\n",
       "      <td>-0.023073</td>\n",
       "      <td>-0.023073</td>\n",
       "      <td>0.946120</td>\n",
       "      <td>0.946120</td>\n",
       "      <td>0.946120</td>\n",
       "      <td>1.000000</td>\n",
       "      <td>-0.023720</td>\n",
       "      <td>-0.023720</td>\n",
       "      <td>-0.023720</td>\n",
       "    </tr>\n",
       "    <tr>\n",
       "      <th>blister</th>\n",
       "      <td>-0.061573</td>\n",
       "      <td>0.331087</td>\n",
       "      <td>-0.023073</td>\n",
       "      <td>-0.033480</td>\n",
       "      <td>-0.023073</td>\n",
       "      <td>-0.067765</td>\n",
       "      <td>-0.061889</td>\n",
       "      <td>-0.033480</td>\n",
       "      <td>-0.033480</td>\n",
       "      <td>-0.023073</td>\n",
       "      <td>...</td>\n",
       "      <td>-0.023073</td>\n",
       "      <td>-0.023073</td>\n",
       "      <td>-0.023073</td>\n",
       "      <td>-0.023720</td>\n",
       "      <td>-0.023720</td>\n",
       "      <td>-0.023720</td>\n",
       "      <td>-0.023720</td>\n",
       "      <td>1.000000</td>\n",
       "      <td>0.946120</td>\n",
       "      <td>0.946120</td>\n",
       "    </tr>\n",
       "    <tr>\n",
       "      <th>red_sore_around_nose</th>\n",
       "      <td>-0.061573</td>\n",
       "      <td>0.331087</td>\n",
       "      <td>-0.023073</td>\n",
       "      <td>-0.033480</td>\n",
       "      <td>-0.023073</td>\n",
       "      <td>-0.067765</td>\n",
       "      <td>-0.061889</td>\n",
       "      <td>-0.033480</td>\n",
       "      <td>-0.033480</td>\n",
       "      <td>-0.023073</td>\n",
       "      <td>...</td>\n",
       "      <td>-0.023073</td>\n",
       "      <td>-0.023073</td>\n",
       "      <td>-0.023073</td>\n",
       "      <td>-0.023720</td>\n",
       "      <td>-0.023720</td>\n",
       "      <td>-0.023720</td>\n",
       "      <td>-0.023720</td>\n",
       "      <td>0.946120</td>\n",
       "      <td>1.000000</td>\n",
       "      <td>0.946120</td>\n",
       "    </tr>\n",
       "    <tr>\n",
       "      <th>yellow_crust_ooze</th>\n",
       "      <td>-0.061573</td>\n",
       "      <td>0.331087</td>\n",
       "      <td>-0.023073</td>\n",
       "      <td>-0.033480</td>\n",
       "      <td>-0.023073</td>\n",
       "      <td>-0.067765</td>\n",
       "      <td>-0.061889</td>\n",
       "      <td>-0.033480</td>\n",
       "      <td>-0.033480</td>\n",
       "      <td>-0.023073</td>\n",
       "      <td>...</td>\n",
       "      <td>-0.023073</td>\n",
       "      <td>-0.023073</td>\n",
       "      <td>-0.023073</td>\n",
       "      <td>-0.023720</td>\n",
       "      <td>-0.023720</td>\n",
       "      <td>-0.023720</td>\n",
       "      <td>-0.023720</td>\n",
       "      <td>0.946120</td>\n",
       "      <td>0.946120</td>\n",
       "      <td>1.000000</td>\n",
       "    </tr>\n",
       "  </tbody>\n",
       "</table>\n",
       "<p>132 rows × 132 columns</p>\n",
       "</div>"
      ],
      "text/plain": [
       "                       itching  skin_rash  nodal_skin_eruptions  \\\n",
       "itching               1.000000   0.318158              0.326439   \n",
       "skin_rash             0.318158   1.000000              0.298143   \n",
       "nodal_skin_eruptions  0.326439   0.298143              1.000000   \n",
       "continuous_sneezing  -0.086906  -0.094786             -0.032566   \n",
       "shivering            -0.059893  -0.065324             -0.022444   \n",
       "...                        ...        ...                   ...   \n",
       "small_dents_in_nails -0.061573   0.331087             -0.023073   \n",
       "inflammatory_nails   -0.061573   0.331087             -0.023073   \n",
       "blister              -0.061573   0.331087             -0.023073   \n",
       "red_sore_around_nose -0.061573   0.331087             -0.023073   \n",
       "yellow_crust_ooze    -0.061573   0.331087             -0.023073   \n",
       "\n",
       "                      continuous_sneezing  shivering    chills  joint_pain  \\\n",
       "itching                         -0.086906  -0.059893 -0.175905   -0.160650   \n",
       "skin_rash                       -0.094786  -0.065324 -0.029324    0.171134   \n",
       "nodal_skin_eruptions            -0.032566  -0.022444 -0.065917   -0.060200   \n",
       "continuous_sneezing              1.000000   0.608981  0.446238   -0.087351   \n",
       "shivering                        0.608981   1.000000  0.295332   -0.060200   \n",
       "...                                   ...        ...       ...         ...   \n",
       "small_dents_in_nails            -0.033480  -0.023073 -0.067765    0.359845   \n",
       "inflammatory_nails              -0.033480  -0.023073 -0.067765    0.359845   \n",
       "blister                         -0.033480  -0.023073 -0.067765   -0.061889   \n",
       "red_sore_around_nose            -0.033480  -0.023073 -0.067765   -0.061889   \n",
       "yellow_crust_ooze               -0.033480  -0.023073 -0.067765   -0.061889   \n",
       "\n",
       "                      stomach_pain   acidity  ulcers_on_tongue  ...  \\\n",
       "itching                   0.202850 -0.086906         -0.059893  ...   \n",
       "skin_rash                 0.161784 -0.094786         -0.065324  ...   \n",
       "nodal_skin_eruptions     -0.032566 -0.032566         -0.022444  ...   \n",
       "continuous_sneezing      -0.047254 -0.047254         -0.032566  ...   \n",
       "shivering                -0.032566 -0.032566         -0.022444  ...   \n",
       "...                            ...       ...               ...  ...   \n",
       "small_dents_in_nails     -0.033480 -0.033480         -0.023073  ...   \n",
       "inflammatory_nails       -0.033480 -0.033480         -0.023073  ...   \n",
       "blister                  -0.033480 -0.033480         -0.023073  ...   \n",
       "red_sore_around_nose     -0.033480 -0.033480         -0.023073  ...   \n",
       "yellow_crust_ooze        -0.033480 -0.033480         -0.023073  ...   \n",
       "\n",
       "                      pus_filled_pimples  blackheads  scurring  skin_peeling  \\\n",
       "itching                        -0.059893   -0.059893 -0.059893     -0.061573   \n",
       "skin_rash                       0.320859    0.320859  0.320859      0.331087   \n",
       "nodal_skin_eruptions           -0.022444   -0.022444 -0.022444     -0.023073   \n",
       "continuous_sneezing            -0.032566   -0.032566 -0.032566     -0.033480   \n",
       "shivering                      -0.022444   -0.022444 -0.022444     -0.023073   \n",
       "...                                  ...         ...       ...           ...   \n",
       "small_dents_in_nails           -0.023073   -0.023073 -0.023073      0.946120   \n",
       "inflammatory_nails             -0.023073   -0.023073 -0.023073      0.946120   \n",
       "blister                        -0.023073   -0.023073 -0.023073     -0.023720   \n",
       "red_sore_around_nose           -0.023073   -0.023073 -0.023073     -0.023720   \n",
       "yellow_crust_ooze              -0.023073   -0.023073 -0.023073     -0.023720   \n",
       "\n",
       "                      silver_like_dusting  small_dents_in_nails  \\\n",
       "itching                         -0.061573             -0.061573   \n",
       "skin_rash                        0.331087              0.331087   \n",
       "nodal_skin_eruptions            -0.023073             -0.023073   \n",
       "continuous_sneezing             -0.033480             -0.033480   \n",
       "shivering                       -0.023073             -0.023073   \n",
       "...                                   ...                   ...   \n",
       "small_dents_in_nails             0.946120              1.000000   \n",
       "inflammatory_nails               0.946120              0.946120   \n",
       "blister                         -0.023720             -0.023720   \n",
       "red_sore_around_nose            -0.023720             -0.023720   \n",
       "yellow_crust_ooze               -0.023720             -0.023720   \n",
       "\n",
       "                      inflammatory_nails   blister  red_sore_around_nose  \\\n",
       "itching                        -0.061573 -0.061573             -0.061573   \n",
       "skin_rash                       0.331087  0.331087              0.331087   \n",
       "nodal_skin_eruptions           -0.023073 -0.023073             -0.023073   \n",
       "continuous_sneezing            -0.033480 -0.033480             -0.033480   \n",
       "shivering                      -0.023073 -0.023073             -0.023073   \n",
       "...                                  ...       ...                   ...   \n",
       "small_dents_in_nails            0.946120 -0.023720             -0.023720   \n",
       "inflammatory_nails              1.000000 -0.023720             -0.023720   \n",
       "blister                        -0.023720  1.000000              0.946120   \n",
       "red_sore_around_nose           -0.023720  0.946120              1.000000   \n",
       "yellow_crust_ooze              -0.023720  0.946120              0.946120   \n",
       "\n",
       "                      yellow_crust_ooze  \n",
       "itching                       -0.061573  \n",
       "skin_rash                      0.331087  \n",
       "nodal_skin_eruptions          -0.023073  \n",
       "continuous_sneezing           -0.033480  \n",
       "shivering                     -0.023073  \n",
       "...                                 ...  \n",
       "small_dents_in_nails          -0.023720  \n",
       "inflammatory_nails            -0.023720  \n",
       "blister                        0.946120  \n",
       "red_sore_around_nose           0.946120  \n",
       "yellow_crust_ooze              1.000000  \n",
       "\n",
       "[132 rows x 132 columns]"
      ]
     },
     "execution_count": 9,
     "metadata": {},
     "output_type": "execute_result"
    }
   ],
   "source": [
    "# correlation\n",
    "disease.corr()\n"
   ]
  },
  {
   "cell_type": "code",
   "execution_count": 10,
   "metadata": {
    "id": "YVH5G64MyPWu"
   },
   "outputs": [],
   "source": [
    "# visualize pairplot\n",
    "%matplotlib inline\n",
    "import seaborn as sns"
   ]
  },
  {
   "cell_type": "code",
   "execution_count": 11,
   "metadata": {},
   "outputs": [],
   "source": [
    "import matplotlib as mpl\n",
    "import matplotlib.pyplot as plt"
   ]
  },
  {
   "cell_type": "code",
   "execution_count": 12,
   "metadata": {
    "colab": {
     "base_uri": "https://localhost:8080/"
    },
    "executionInfo": {
     "elapsed": 443,
     "status": "ok",
     "timestamp": 1661324704265,
     "user": {
      "displayName": "YBI Foundation",
      "userId": "14999490793651581791"
     },
     "user_tz": -330
    },
    "id": "ymxMIpJtzyYK",
    "outputId": "6eb3c25d-2a5e-473d-a21d-9ab696b8e3d1"
   },
   "outputs": [
    {
     "data": {
      "text/plain": [
       "Index(['itching', 'skin_rash', 'nodal_skin_eruptions', 'continuous_sneezing',\n",
       "       'shivering', 'chills', 'joint_pain', 'stomach_pain', 'acidity',\n",
       "       'ulcers_on_tongue',\n",
       "       ...\n",
       "       'blackheads', 'scurring', 'skin_peeling', 'silver_like_dusting',\n",
       "       'small_dents_in_nails', 'inflammatory_nails', 'blister',\n",
       "       'red_sore_around_nose', 'yellow_crust_ooze', 'prognosis'],\n",
       "      dtype='object', length=133)"
      ]
     },
     "execution_count": 12,
     "metadata": {},
     "output_type": "execute_result"
    }
   ],
   "source": [
    "# column names\n",
    "disease.columns"
   ]
  },
  {
   "cell_type": "code",
   "execution_count": 13,
   "metadata": {
    "id": "kDznvpMcz3Xj"
   },
   "outputs": [],
   "source": [
    "# define y\n",
    "y=disease['prognosis']"
   ]
  },
  {
   "cell_type": "code",
   "execution_count": 14,
   "metadata": {
    "id": "VYOT05Uzz63S"
   },
   "outputs": [],
   "source": [
    "# define X\n",
    "x=disease.drop(\"prognosis\",axis=1)"
   ]
  },
  {
   "cell_type": "code",
   "execution_count": 15,
   "metadata": {
    "id": "BMu-d3slzX7j"
   },
   "outputs": [],
   "source": [
    "# split data\n",
    "from sklearn.model_selection import train_test_split\n",
    "\n",
    "x_train,x_test,y_train,y_test=train_test_split(x,y,test_size=.3,random_state=12)"
   ]
  },
  {
   "cell_type": "code",
   "execution_count": 16,
   "metadata": {
    "colab": {
     "base_uri": "https://localhost:8080/"
    },
    "executionInfo": {
     "elapsed": 426,
     "status": "ok",
     "timestamp": 1661324771894,
     "user": {
      "displayName": "YBI Foundation",
      "userId": "14999490793651581791"
     },
     "user_tz": -330
    },
    "id": "6TYpjNnAzgHV",
    "outputId": "c93f8148-8355-4f5b-ba21-3b822c30dec6"
   },
   "outputs": [
    {
     "data": {
      "text/plain": [
       "((3444, 132), (1476, 132), (3444,), (1476,))"
      ]
     },
     "execution_count": 16,
     "metadata": {},
     "output_type": "execute_result"
    }
   ],
   "source": [
    "# verify shape\n",
    "x_train.shape, x_test.shape, y_train.shape, y_test.shape"
   ]
  },
  {
   "cell_type": "code",
   "execution_count": 17,
   "metadata": {
    "id": "JsLlB3pi0Frp"
   },
   "outputs": [],
   "source": [
    "# select model\n",
    "from sklearn.preprocessing import MinMaxScaler\n",
    "scaler=MinMaxScaler()"
   ]
  },
  {
   "cell_type": "code",
   "execution_count": 18,
   "metadata": {},
   "outputs": [],
   "source": [
    "x_train=scaler.fit_transform(x_train)\n",
    "x_test=scaler.transform(x_test)\n",
    "from sklearn.ensemble import RandomForestClassifier\n",
    "model=RandomForestClassifier(n_estimators=50)"
   ]
  },
  {
   "cell_type": "code",
   "execution_count": 19,
   "metadata": {
    "colab": {
     "base_uri": "https://localhost:8080/"
    },
    "executionInfo": {
     "elapsed": 1172,
     "status": "ok",
     "timestamp": 1661324811812,
     "user": {
      "displayName": "YBI Foundation",
      "userId": "14999490793651581791"
     },
     "user_tz": -330
    },
    "id": "zNcMLK2N0S4N",
    "outputId": "42689df8-ca4f-4fc7-ce92-35a129c091a1"
   },
   "outputs": [
    {
     "data": {
      "text/plain": [
       "RandomForestClassifier(n_estimators=50)"
      ]
     },
     "execution_count": 19,
     "metadata": {},
     "output_type": "execute_result"
    }
   ],
   "source": [
    "# train model\n",
    "model.fit(x_train,y_train)"
   ]
  },
  {
   "cell_type": "code",
   "execution_count": 20,
   "metadata": {
    "id": "Ucz0oHDj0X36"
   },
   "outputs": [
    {
     "data": {
      "text/plain": [
       "array(['Fungal infection', 'Hypoglycemia', 'Pneumonia', ..., 'Pneumonia',\n",
       "       'Common Cold', 'Allergy'], dtype=object)"
      ]
     },
     "execution_count": 20,
     "metadata": {},
     "output_type": "execute_result"
    }
   ],
   "source": [
    "# predict with model\n",
    "model.predict(x_test)"
   ]
  },
  {
   "cell_type": "code",
   "execution_count": 27,
   "metadata": {
    "id": "9ueK-hy00e3-"
   },
   "outputs": [],
   "source": [
    "# model evaluation\n",
    "\n",
    "from sklearn.metrics import accuracy_score, confusion_matrix, classification_report\n",
    "y_pred=model.predict(x_test)"
   ]
  },
  {
   "cell_type": "code",
   "execution_count": 28,
   "metadata": {
    "colab": {
     "base_uri": "https://localhost:8080/"
    },
    "executionInfo": {
     "elapsed": 12,
     "status": "ok",
     "timestamp": 1661324816875,
     "user": {
      "displayName": "YBI Foundation",
      "userId": "14999490793651581791"
     },
     "user_tz": -330
    },
    "id": "JJV2eHf50o4W",
    "outputId": "8a3cb83f-683a-4be5-ca27-ae3467cc7057"
   },
   "outputs": [
    {
     "data": {
      "text/plain": [
       "1.0"
      ]
     },
     "execution_count": 28,
     "metadata": {},
     "output_type": "execute_result"
    }
   ],
   "source": [
    "# model accuracy\n",
    "model.score(x_test,y_pred)"
   ]
  },
  {
   "cell_type": "code",
   "execution_count": 29,
   "metadata": {
    "colab": {
     "base_uri": "https://localhost:8080/"
    },
    "executionInfo": {
     "elapsed": 3,
     "status": "ok",
     "timestamp": 1661324818614,
     "user": {
      "displayName": "YBI Foundation",
      "userId": "14999490793651581791"
     },
     "user_tz": -330
    },
    "id": "h100Msuz00TT",
    "outputId": "26ab22d9-efef-4161-97ae-8fa447b2648d"
   },
   "outputs": [
    {
     "data": {
      "text/plain": [
       "array([[32,  0,  0, ...,  0,  0,  0],\n",
       "       [ 0, 29,  0, ...,  0,  0,  0],\n",
       "       [ 0,  0, 37, ...,  0,  0,  0],\n",
       "       ...,\n",
       "       [ 0,  0,  0, ..., 37,  0,  0],\n",
       "       [ 0,  0,  0, ...,  0, 45,  0],\n",
       "       [ 0,  0,  0, ...,  0,  0, 39]], dtype=int64)"
      ]
     },
     "execution_count": 29,
     "metadata": {},
     "output_type": "execute_result"
    }
   ],
   "source": [
    "# model confusion matrix\n",
    "confusion_matrix(y_test,y_pred)\n"
   ]
  },
  {
   "cell_type": "code",
   "execution_count": 30,
   "metadata": {
    "colab": {
     "base_uri": "https://localhost:8080/"
    },
    "executionInfo": {
     "elapsed": 638,
     "status": "ok",
     "timestamp": 1661324820827,
     "user": {
      "displayName": "YBI Foundation",
      "userId": "14999490793651581791"
     },
     "user_tz": -330
    },
    "id": "BINeM-mo1Arv",
    "outputId": "425f2f93-dd16-4fb4-c68c-e4372b6b2d64"
   },
   "outputs": [
    {
     "name": "stdout",
     "output_type": "stream",
     "text": [
      "                                         precision    recall  f1-score   support\n",
      "\n",
      "(vertigo) Paroymsal  Positional Vertigo       1.00      1.00      1.00        32\n",
      "                                   AIDS       1.00      1.00      1.00        29\n",
      "                                   Acne       1.00      1.00      1.00        37\n",
      "                    Alcoholic hepatitis       1.00      1.00      1.00        36\n",
      "                                Allergy       1.00      1.00      1.00        38\n",
      "                              Arthritis       1.00      1.00      1.00        40\n",
      "                       Bronchial Asthma       1.00      1.00      1.00        40\n",
      "                   Cervical spondylosis       1.00      1.00      1.00        33\n",
      "                            Chicken pox       1.00      1.00      1.00        37\n",
      "                    Chronic cholestasis       1.00      1.00      1.00        40\n",
      "                            Common Cold       1.00      1.00      1.00        42\n",
      "                                 Dengue       1.00      1.00      1.00        34\n",
      "                              Diabetes        1.00      1.00      1.00        32\n",
      "           Dimorphic hemmorhoids(piles)       1.00      1.00      1.00        37\n",
      "                          Drug Reaction       1.00      1.00      1.00        38\n",
      "                       Fungal infection       1.00      1.00      1.00        37\n",
      "                                   GERD       1.00      1.00      1.00        38\n",
      "                        Gastroenteritis       1.00      1.00      1.00        22\n",
      "                           Heart attack       1.00      1.00      1.00        37\n",
      "                            Hepatitis B       1.00      1.00      1.00        29\n",
      "                            Hepatitis C       1.00      1.00      1.00        36\n",
      "                            Hepatitis D       1.00      1.00      1.00        40\n",
      "                            Hepatitis E       1.00      1.00      1.00        32\n",
      "                          Hypertension        1.00      1.00      1.00        33\n",
      "                        Hyperthyroidism       1.00      1.00      1.00        36\n",
      "                           Hypoglycemia       1.00      1.00      1.00        40\n",
      "                         Hypothyroidism       1.00      1.00      1.00        31\n",
      "                               Impetigo       1.00      1.00      1.00        42\n",
      "                               Jaundice       1.00      1.00      1.00        39\n",
      "                                Malaria       1.00      1.00      1.00        31\n",
      "                               Migraine       1.00      1.00      1.00        30\n",
      "                        Osteoarthristis       1.00      1.00      1.00        38\n",
      "           Paralysis (brain hemorrhage)       1.00      1.00      1.00        37\n",
      "                    Peptic ulcer diseae       1.00      1.00      1.00        32\n",
      "                              Pneumonia       1.00      1.00      1.00        32\n",
      "                              Psoriasis       1.00      1.00      1.00        36\n",
      "                           Tuberculosis       1.00      1.00      1.00        39\n",
      "                                Typhoid       1.00      1.00      1.00        43\n",
      "                Urinary tract infection       1.00      1.00      1.00        37\n",
      "                         Varicose veins       1.00      1.00      1.00        45\n",
      "                            hepatitis A       1.00      1.00      1.00        39\n",
      "\n",
      "                               accuracy                           1.00      1476\n",
      "                              macro avg       1.00      1.00      1.00      1476\n",
      "                           weighted avg       1.00      1.00      1.00      1476\n",
      "\n"
     ]
    }
   ],
   "source": [
    "# model classification report\n",
    "print(classification_report(y_test,y_pred))"
   ]
  },
  {
   "cell_type": "code",
   "execution_count": 31,
   "metadata": {
    "colab": {
     "base_uri": "https://localhost:8080/"
    },
    "executionInfo": {
     "elapsed": 3,
     "status": "ok",
     "timestamp": 1661324832470,
     "user": {
      "displayName": "YBI Foundation",
      "userId": "14999490793651581791"
     },
     "user_tz": -330
    },
    "id": "ph3XVzdw2MS2",
    "outputId": "51c39737-2955-40f7-cafe-8c02847ae03e"
   },
   "outputs": [
    {
     "data": {
      "text/plain": [
       "array(['Chicken pox'], dtype=object)"
      ]
     },
     "execution_count": 31,
     "metadata": {},
     "output_type": "execute_result"
    }
   ],
   "source": [
    "\n",
    "# predict for X_new\n",
    "model.predict(pd.DataFrame([['1','1','0','0','0','0','0','0','0','0','0','0','0','0','1','0','0','0','0','0','0','1','0','0','0','1','0','0','0','0','0','1','0','0','0','1','0','0','0','0','0','1','0','0','0','0','0','1','1','0','0','0','0','0','0','0','0','0','0','0','0','0','0','0','0','0','0','0','0','0','0','0','0','0','0','0','0','0','0','0','0','0','0','0','0','0','0','0','0','0','0','0','0','0','0','0','0','0','0','1','0','0','0','0','0','0','0','0','0','0','0','0','0','0','0','0','0','0','0','0','0','0','0','0','0','0','0','0','0','0','0','0']]\n",
    "                          ,columns=['itching','skin_rash','nodal_skin_eruptions','continuous_sneezing','shivering','chills','joint_pain','stomach_pain','acidity','ulcers_on_tongue','muscle_wasting','vomiting','burning_micturition','spotting_ urination','fatigue','weight_gain','anxiety','cold_hands_and_feets','mood_swings','weight_loss','restlessness','lethargy','patches_in_throat','irregular_sugar_level','cough','high_fever','sunken_eyes','breathlessness','sweating','dehydration','indigestion','headache','yellowish_skin','dark_urine','nausea','loss_of_appetite','pain_behind_the_eyes','back_pain','constipation','abdominal_pain','diarrhoea','mild_fever','yellow_urine','yellowing_of_eyes','acute_liver_failure','fluid_overload','swelling_of_stomach','swelled_lymph_nodes','malaise','blurred_and_distorted_vision','phlegm','throat_irritation','redness_of_eyes','sinus_pressure','runny_nose','congestion','chest_pain','weakness_in_limbs','fast_heart_rate','pain_during_bowel_movements','pain_in_anal_region','bloody_stool','irritation_in_anus','neck_pain','dizziness','cramps','bruising','obesity','swollen_legs','swollen_blood_vessels','puffy_face_and_eyes','enlarged_thyroid','brittle_nails','swollen_extremeties','excessive_hunger','extra_marital_contacts','drying_and_tingling_lips','slurred_speech','knee_pain','hip_joint_pain','muscle_weakness','stiff_neck','swelling_joints','movement_stiffness','spinning_movements','loss_of_balance','unsteadiness','weakness_of_one_body_side','loss_of_smell','bladder_discomfort','foul_smell_of urine','continuous_feel_of_urine','passage_of_gases','internal_itching','toxic_look_(typhos)','depression','irritability','muscle_pain','altered_sensorium','red_spots_over_body','belly_pain','abnormal_menstruation','dischromic _patches','watering_from_eyes','increased_appetite','polyuria','family_history','mucoid_sputum','rusty_sputum','lack_of_concentration','visual_disturbances','receiving_blood_transfusion','receiving_unsterile_injections','coma','stomach_bleeding','distention_of_abdomen','history_of_alcohol_consumption','fluid_overload','blood_in_sputum','prominent_veins_on_calf','palpitations','painful_walking','pus_filled_pimples','blackheads','scurring','skin_peeling','silver_like_dusting','small_dents_in_nails','inflammatory_nails','blister','red_sore_around_nose','yellow_crust_ooze']))\n"
   ]
  },
  {
   "cell_type": "code",
   "execution_count": null,
   "metadata": {},
   "outputs": [],
   "source": []
  }
 ],
 "metadata": {
  "colab": {
   "authorship_tag": "ABX9TyMoqSOrDX8pNTN+fxxFUlx7",
   "collapsed_sections": [],
   "name": "Classification Model to Identify Multiple Disease Project.ipynb",
   "provenance": []
  },
  "kernelspec": {
   "display_name": "Python 3",
   "language": "python",
   "name": "python3"
  },
  "language_info": {
   "codemirror_mode": {
    "name": "ipython",
    "version": 3
   },
   "file_extension": ".py",
   "mimetype": "text/x-python",
   "name": "python",
   "nbconvert_exporter": "python",
   "pygments_lexer": "ipython3",
   "version": "3.8.8"
  }
 },
 "nbformat": 4,
 "nbformat_minor": 1
}
